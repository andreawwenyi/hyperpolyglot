{
 "cells": [
  {
   "cell_type": "code",
   "execution_count": 1,
   "metadata": {},
   "outputs": [],
   "source": [
    "import pandas as pd\n",
    "import csv\n",
    "import seaborn as sns\n",
    "import matplotlib.pyplot as plt\n",
    "import numpy as np"
   ]
  },
  {
   "cell_type": "markdown",
   "metadata": {},
   "source": [
    "## Figure 5"
   ]
  },
  {
   "cell_type": "code",
   "execution_count": 10,
   "metadata": {},
   "outputs": [],
   "source": [
    "vocab_map = np.load(\"vocab/m_x_u_mt5_map.npy\")\n",
    "vocab_categories = np.load(\"vocab/mt5_categories.npy\")\n",
    "neighbors = pd.read_csv(\"mt5-xl/neighbors.tsv\", sep=\"\\t\", quoting=csv.QUOTE_NONE, header=None)\n",
    "neighbors.columns = [\"score\", \"token_idx\", \"token\", \"neighbor_idx\", \"neighbor_token\"]\n",
    "\n",
    "neighbors = neighbors[neighbors['token_idx'].isin(vocab_map)]\n",
    "\n",
    "neighbors['token_category'] = neighbors['token_idx'].apply(lambda x: vocab_categories[x])\n",
    "neighbors['neighbor_category'] = neighbors['neighbor_idx'].apply(lambda x: vocab_categories[x])\n",
    "neighbors['order'] = neighbors.groupby(\"token_idx\").cumcount()\n",
    "neighbors = neighbors[neighbors['order'] <= 50]"
   ]
  },
  {
   "cell_type": "code",
   "execution_count": 11,
   "metadata": {},
   "outputs": [],
   "source": [
    "keep_category = dict()\n",
    "\n",
    "for category in ['KATAKANA', 'HIRAGANA', 'CJK', 'LATIN', 'CYRILLIC']:\n",
    "    category_df = neighbors[neighbors['token_category']==category].copy()\n",
    "    g = category_df.groupby([\"token_idx\", \"token\", \"neighbor_category\"]).size().reset_index(name='size')\n",
    "    top_ten = g.groupby(\"neighbor_category\")['size'].mean().sort_values(ascending=False).index[:10].values\n",
    "    keep_category[category] = top_ten"
   ]
  },
  {
   "cell_type": "code",
   "execution_count": 12,
   "metadata": {},
   "outputs": [
    {
     "data": {
      "text/plain": [
       "{'KATAKANA': array(['LATIN', 'KATAKANA', 'CJK', 'S', 'CYRILLIC', 'CANADIAN', 'P',\n",
       "        'HIRAGANA', 'M', 'THAI'], dtype=object),\n",
       " 'HIRAGANA': array(['HIRAGANA', 'CJK', 'LATIN', 'S', 'BOPOMOFO', 'HANGUL', 'M', 'THAI',\n",
       "        'CYRILLIC', 'KATAKANA'], dtype=object),\n",
       " 'CJK': array(['CJK', 'LATIN', 'HIRAGANA', 'S', 'CYRILLIC', 'HANGUL', 'N', 'C',\n",
       "        'KATAKANA', 'THAI'], dtype=object),\n",
       " 'LATIN': array(['LATIN', 'CYRILLIC', 'S', 'CJK', 'N', 'M', 'MODIFIER', 'P',\n",
       "        'GREEK', 'ARABIC'], dtype=object),\n",
       " 'CYRILLIC': array(['CYRILLIC', 'LATIN', 'S', 'CJK', 'GREEK', 'N', 'ARABIC', 'M',\n",
       "        'SYRIAC', 'P'], dtype=object)}"
      ]
     },
     "execution_count": 12,
     "metadata": {},
     "output_type": "execute_result"
    }
   ],
   "source": [
    "keep_category"
   ]
  },
  {
   "cell_type": "code",
   "execution_count": 13,
   "metadata": {},
   "outputs": [],
   "source": [
    "keep_category = [\"KATAKANA\", \"HIRAGANA\", \"CJK\",\"LATIN\", \"CYRILLIC\"]"
   ]
  },
  {
   "cell_type": "code",
   "execution_count": 14,
   "metadata": {},
   "outputs": [],
   "source": [
    "category_df = neighbors[neighbors['token_category'].isin(['KATAKANA', 'HIRAGANA', 'CJK', 'LATIN', 'CYRILLIC'])].copy()"
   ]
  },
  {
   "cell_type": "code",
   "execution_count": 15,
   "metadata": {},
   "outputs": [],
   "source": [
    "g = category_df.groupby([\"token_idx\", \"token\", \"token_category\", \"neighbor_category\"]).size().reset_index(name='size')\n",
    "g = g[g['neighbor_category'].isin(keep_category)]"
   ]
  },
  {
   "cell_type": "code",
   "execution_count": 16,
   "metadata": {},
   "outputs": [
    {
     "data": {
      "text/html": [
       "<div>\n",
       "<style scoped>\n",
       "    .dataframe tbody tr th:only-of-type {\n",
       "        vertical-align: middle;\n",
       "    }\n",
       "\n",
       "    .dataframe tbody tr th {\n",
       "        vertical-align: top;\n",
       "    }\n",
       "\n",
       "    .dataframe thead th {\n",
       "        text-align: right;\n",
       "    }\n",
       "</style>\n",
       "<table border=\"1\" class=\"dataframe\">\n",
       "  <thead>\n",
       "    <tr style=\"text-align: right;\">\n",
       "      <th></th>\n",
       "      <th>token_idx</th>\n",
       "      <th>token</th>\n",
       "      <th>token_category</th>\n",
       "      <th>neighbor_category</th>\n",
       "      <th>size</th>\n",
       "    </tr>\n",
       "  </thead>\n",
       "  <tbody>\n",
       "    <tr>\n",
       "      <th>2</th>\n",
       "      <td>0</td>\n",
       "      <td>&lt;pad&gt;</td>\n",
       "      <td>LATIN</td>\n",
       "      <td>CJK</td>\n",
       "      <td>5</td>\n",
       "    </tr>\n",
       "    <tr>\n",
       "      <th>3</th>\n",
       "      <td>0</td>\n",
       "      <td>&lt;pad&gt;</td>\n",
       "      <td>LATIN</td>\n",
       "      <td>CYRILLIC</td>\n",
       "      <td>3</td>\n",
       "    </tr>\n",
       "    <tr>\n",
       "      <th>8</th>\n",
       "      <td>0</td>\n",
       "      <td>&lt;pad&gt;</td>\n",
       "      <td>LATIN</td>\n",
       "      <td>LATIN</td>\n",
       "      <td>16</td>\n",
       "    </tr>\n",
       "    <tr>\n",
       "      <th>16</th>\n",
       "      <td>2</td>\n",
       "      <td>&lt;unk&gt;</td>\n",
       "      <td>LATIN</td>\n",
       "      <td>CJK</td>\n",
       "      <td>2</td>\n",
       "    </tr>\n",
       "    <tr>\n",
       "      <th>17</th>\n",
       "      <td>2</td>\n",
       "      <td>&lt;unk&gt;</td>\n",
       "      <td>LATIN</td>\n",
       "      <td>CYRILLIC</td>\n",
       "      <td>4</td>\n",
       "    </tr>\n",
       "  </tbody>\n",
       "</table>\n",
       "</div>"
      ],
      "text/plain": [
       "    token_idx  token token_category neighbor_category  size\n",
       "2           0  <pad>          LATIN               CJK     5\n",
       "3           0  <pad>          LATIN          CYRILLIC     3\n",
       "8           0  <pad>          LATIN             LATIN    16\n",
       "16          2  <unk>          LATIN               CJK     2\n",
       "17          2  <unk>          LATIN          CYRILLIC     4"
      ]
     },
     "execution_count": 16,
     "metadata": {},
     "output_type": "execute_result"
    }
   ],
   "source": [
    "g.head()"
   ]
  },
  {
   "cell_type": "code",
   "execution_count": 39,
   "metadata": {},
   "outputs": [
    {
     "data": {
      "image/png": "[encoded data removed]",
      "text/plain": [
       "<Figure size 500x500 with 5 Axes>"
      ]
     },
     "metadata": {},
     "output_type": "display_data"
    }
   ],
   "source": [
    "sns.set_palette(\"YlGnBu\")\n",
    "fig = sns.catplot(\n",
    "    data=g, x=\"neighbor_category\", y=\"size\", row=\"token_category\",\n",
    "    kind=\"bar\", height=1, aspect=5, order = keep_category,\n",
    "    row_order = ['KATAKANA', 'HIRAGANA', 'CJK', 'LATIN', 'CYRILLIC'],\n",
    ")\n",
    "fig.tick_params(axis=\"x\", labelrotation=0, labelsize=9)\n",
    "fig.set_ylabels(\"count\")\n",
    "plt.tight_layout()\n",
    "plt.savefig(\"./figures/figure5-neighbor_breakdown.png\", dpi=400)"
   ]
  },
  {
   "cell_type": "markdown",
   "metadata": {},
   "source": [
    "## Figure 9"
   ]
  },
  {
   "cell_type": "code",
   "execution_count": 18,
   "metadata": {},
   "outputs": [],
   "source": [
    "vocab_map = np.load(\"vocab/frequency_mt5_map.npy\")\n",
    "vocab_categories = np.load(\"vocab/mt5_categories.npy\")\n",
    "neighbors = pd.read_csv(\"mt5-xl/neighbors.tsv\", sep=\"\\t\", quoting=csv.QUOTE_NONE, header=None)\n",
    "neighbors.columns = [\"score\", \"token_idx\", \"token\", \"neighbor_idx\", \"neighbor_token\"]\n",
    "\n",
    "neighbors = neighbors[neighbors['token_idx'].isin(vocab_map)]\n",
    "\n",
    "neighbors['token_cat'] = neighbors['token_idx'].apply(lambda x: vocab_categories[x])\n",
    "neighbors['neighbor_cat'] = neighbors['neighbor_idx'].apply(lambda x: vocab_categories[x])\n",
    "neighbors['order'] = neighbors.groupby(\"token_idx\").cumcount()\n",
    "neighbors = neighbors[neighbors['order'] <= 50]"
   ]
  },
  {
   "cell_type": "code",
   "execution_count": 19,
   "metadata": {},
   "outputs": [],
   "source": [
    "lang = pd.read_csv(\"/share/magpie/datasets/mc4/merged_counts.tsv\", sep=\"\\t\", quoting=csv.QUOTE_NONE)\n",
    "df = lang.groupby([\"TokenID\", \"Token\"])['Count'].sum().reset_index(name='count')\n",
    "\n",
    "vocab_categories = np.load(\"vocab/mt5_categories.npy\")\n",
    "\n",
    "vocab = np.load(\"vocab/mt5_vocab.npy\", allow_pickle=True)\n",
    "\n",
    "df['Category'] = df['TokenID'].apply(lambda x: vocab_categories[x])\n",
    "df = df.sort_values(\"count\").reset_index(drop=True)\n",
    "# sanity check\n",
    "# from collections import Counter\n",
    "# Counter(np.ceil(10*(df.index+1) / len(df)))\n",
    "\n",
    "df['frequency_bracket'] = np.ceil(10*(df.index+1) / len(df))\n",
    "# frequency_map = df.groupby(\"frequency_bracket\").sample(frac=0.01)['TokenID'].values\n",
    "# np.save(\"vocab/frequency_mt5_map.npy\", frequency_map)"
   ]
  },
  {
   "cell_type": "code",
   "execution_count": 20,
   "metadata": {},
   "outputs": [
    {
     "data": {
      "text/html": [
       "<div>\n",
       "<style scoped>\n",
       "    .dataframe tbody tr th:only-of-type {\n",
       "        vertical-align: middle;\n",
       "    }\n",
       "\n",
       "    .dataframe tbody tr th {\n",
       "        vertical-align: top;\n",
       "    }\n",
       "\n",
       "    .dataframe thead th {\n",
       "        text-align: right;\n",
       "    }\n",
       "</style>\n",
       "<table border=\"1\" class=\"dataframe\">\n",
       "  <thead>\n",
       "    <tr style=\"text-align: right;\">\n",
       "      <th></th>\n",
       "      <th>TokenID</th>\n",
       "      <th>Token</th>\n",
       "      <th>count</th>\n",
       "      <th>Category</th>\n",
       "      <th>frequency_bracket</th>\n",
       "    </tr>\n",
       "  </thead>\n",
       "  <tbody>\n",
       "    <tr>\n",
       "      <th>0</th>\n",
       "      <td>243611</td>\n",
       "      <td>ⳃ</td>\n",
       "      <td>1</td>\n",
       "      <td>COPTIC</td>\n",
       "      <td>1.0</td>\n",
       "    </tr>\n",
       "    <tr>\n",
       "      <th>1</th>\n",
       "      <td>248451</td>\n",
       "      <td>㰓</td>\n",
       "      <td>1</td>\n",
       "      <td>CJK</td>\n",
       "      <td>1.0</td>\n",
       "    </tr>\n",
       "    <tr>\n",
       "      <th>2</th>\n",
       "      <td>249935</td>\n",
       "      <td>䀻</td>\n",
       "      <td>1</td>\n",
       "      <td>CJK</td>\n",
       "      <td>1.0</td>\n",
       "    </tr>\n",
       "    <tr>\n",
       "      <th>3</th>\n",
       "      <td>247946</td>\n",
       "      <td>᲌</td>\n",
       "      <td>1</td>\n",
       "      <td>C</td>\n",
       "      <td>1.0</td>\n",
       "    </tr>\n",
       "    <tr>\n",
       "      <th>4</th>\n",
       "      <td>249908</td>\n",
       "      <td>㘤</td>\n",
       "      <td>1</td>\n",
       "      <td>CJK</td>\n",
       "      <td>1.0</td>\n",
       "    </tr>\n",
       "  </tbody>\n",
       "</table>\n",
       "</div>"
      ],
      "text/plain": [
       "   TokenID Token  count Category  frequency_bracket\n",
       "0   243611     ⳃ      1   COPTIC                1.0\n",
       "1   248451     㰓      1      CJK                1.0\n",
       "2   249935     䀻      1      CJK                1.0\n",
       "3   247946     ᲌      1        C                1.0\n",
       "4   249908     㘤      1      CJK                1.0"
      ]
     },
     "execution_count": 20,
     "metadata": {},
     "output_type": "execute_result"
    }
   ],
   "source": [
    "df.head()"
   ]
  },
  {
   "cell_type": "code",
   "execution_count": 21,
   "metadata": {},
   "outputs": [],
   "source": [
    "neighbors = neighbors.merge(df, left_on='token_idx', right_on='TokenID', how='left')"
   ]
  },
  {
   "cell_type": "code",
   "execution_count": 22,
   "metadata": {},
   "outputs": [],
   "source": [
    "neighbors['frequency_bracket'] = neighbors['frequency_bracket'].astype(int)"
   ]
  },
  {
   "cell_type": "code",
   "execution_count": 40,
   "metadata": {},
   "outputs": [
    {
     "data": {
      "image/png": "[encoded data removed]",
      "text/plain": [
       "<Figure size 600x500 with 1 Axes>"
      ]
     },
     "metadata": {},
     "output_type": "display_data"
    }
   ],
   "source": [
    "plt.figure(figsize=(6,5))\n",
    "sns.set_palette(\"Paired\")\n",
    "x = neighbors.groupby(['token_idx', 'frequency_bracket'])['neighbor_cat'].nunique().reset_index(name='num_neighbor_cats')\n",
    "ax = sns.barplot(data=x, x='frequency_bracket', y='num_neighbor_cats')\n",
    "# ax.set_title(\"all tokens\")\n",
    "ax.set_ylabel(\"numNeighborCategory @ 50\")\n",
    "ax.set_xlabel(\"Deciles of token frequency in mT5 training documents \\n 1 = least frequent decile\")\n",
    "plt.savefig(\"./figures/figure9-frequency_and_numNeighborCategory.png\", bbox_inches='tight', dpi=400)"
   ]
  }
 ],
 "metadata": {
  "kernelspec": {
   "display_name": "Python 3 (ipykernel)",
   "language": "python",
   "name": "python3"
  },
  "language_info": {
   "codemirror_mode": {
    "name": "ipython",
    "version": 3
   },
   "file_extension": ".py",
   "mimetype": "text/x-python",
   "name": "python",
   "nbconvert_exporter": "python",
   "pygments_lexer": "ipython3",
   "version": "3.10.13"
  }
 },
 "nbformat": 4,
 "nbformat_minor": 5
}
