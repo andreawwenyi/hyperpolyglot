{
 "cells": [
  {
   "cell_type": "code",
   "execution_count": 1,
   "metadata": {},
   "outputs": [],
   "source": [
    "import seaborn\n",
    "from matplotlib import pyplot\n",
    "import numpy as np\n",
    "import pandas as pd"
   ]
  },
  {
   "cell_type": "code",
   "execution_count": 2,
   "metadata": {},
   "outputs": [
    {
     "data": {
      "text/html": [
       "<div>\n",
       "<style scoped>\n",
       "    .dataframe tbody tr th:only-of-type {\n",
       "        vertical-align: middle;\n",
       "    }\n",
       "\n",
       "    .dataframe tbody tr th {\n",
       "        vertical-align: top;\n",
       "    }\n",
       "\n",
       "    .dataframe thead th {\n",
       "        text-align: right;\n",
       "    }\n",
       "</style>\n",
       "<table border=\"1\" class=\"dataframe\">\n",
       "  <thead>\n",
       "    <tr style=\"text-align: right;\">\n",
       "      <th></th>\n",
       "      <th>Count</th>\n",
       "      <th>Overlap</th>\n",
       "      <th>Latin</th>\n",
       "      <th>ModelA</th>\n",
       "      <th>ModelB</th>\n",
       "      <th>Description</th>\n",
       "    </tr>\n",
       "  </thead>\n",
       "  <tbody>\n",
       "    <tr>\n",
       "      <th>0</th>\n",
       "      <td>50277</td>\n",
       "      <td>1.000</td>\n",
       "      <td>0.880</td>\n",
       "      <td>pythia</td>\n",
       "      <td>pythia</td>\n",
       "      <td>LATIN (44219) N (2033) P (1740) S (924) CYRILL...</td>\n",
       "    </tr>\n",
       "    <tr>\n",
       "      <th>1</th>\n",
       "      <td>21681</td>\n",
       "      <td>0.678</td>\n",
       "      <td>0.904</td>\n",
       "      <td>pythia</td>\n",
       "      <td>llama</td>\n",
       "      <td>LATIN (19595) P (796) S (411) CJK (290) CYRILL...</td>\n",
       "    </tr>\n",
       "    <tr>\n",
       "      <th>2</th>\n",
       "      <td>23687</td>\n",
       "      <td>0.471</td>\n",
       "      <td>0.837</td>\n",
       "      <td>pythia</td>\n",
       "      <td>mt5</td>\n",
       "      <td>LATIN (19831) N (1977) P (415) CYRILLIC (325) ...</td>\n",
       "    </tr>\n",
       "    <tr>\n",
       "      <th>3</th>\n",
       "      <td>19043</td>\n",
       "      <td>0.379</td>\n",
       "      <td>0.852</td>\n",
       "      <td>pythia</td>\n",
       "      <td>xlm</td>\n",
       "      <td>LATIN (16218) N (1164) S (326) CYRILLIC (319) ...</td>\n",
       "    </tr>\n",
       "    <tr>\n",
       "      <th>4</th>\n",
       "      <td>25552</td>\n",
       "      <td>0.508</td>\n",
       "      <td>0.925</td>\n",
       "      <td>pythia</td>\n",
       "      <td>umt5</td>\n",
       "      <td>LATIN (23638) S (364) CYRILLIC (323) CJK (313)...</td>\n",
       "    </tr>\n",
       "  </tbody>\n",
       "</table>\n",
       "</div>"
      ],
      "text/plain": [
       "   Count  Overlap  Latin  ModelA  ModelB  \\\n",
       "0  50277    1.000  0.880  pythia  pythia   \n",
       "1  21681    0.678  0.904  pythia   llama   \n",
       "2  23687    0.471  0.837  pythia     mt5   \n",
       "3  19043    0.379  0.852  pythia     xlm   \n",
       "4  25552    0.508  0.925  pythia    umt5   \n",
       "\n",
       "                                         Description  \n",
       "0  LATIN (44219) N (2033) P (1740) S (924) CYRILL...  \n",
       "1  LATIN (19595) P (796) S (411) CJK (290) CYRILL...  \n",
       "2  LATIN (19831) N (1977) P (415) CYRILLIC (325) ...  \n",
       "3  LATIN (16218) N (1164) S (326) CYRILLIC (319) ...  \n",
       "4  LATIN (23638) S (364) CYRILLIC (323) CJK (313)...  "
      ]
     },
     "execution_count": 2,
     "metadata": {},
     "output_type": "execute_result"
    }
   ],
   "source": [
    "overlap_counts = pd.read_csv(\"overlap_counts.tsv\", delimiter=\"\\t\")\n",
    "overlap_counts.head()"
   ]
  },
  {
   "cell_type": "code",
   "execution_count": 3,
   "metadata": {},
   "outputs": [],
   "source": [
    "overlap_counts[\"NonLatin\"] = 1 - overlap_counts[\"Latin\"]"
   ]
  },
  {
   "cell_type": "code",
   "execution_count": 4,
   "metadata": {},
   "outputs": [],
   "source": [
    "colors = seaborn.color_palette(\"Blues\", as_cmap=True)"
   ]
  },
  {
   "cell_type": "code",
   "execution_count": 15,
   "metadata": {},
   "outputs": [],
   "source": [
    "import matplotlib.ticker\n",
    "import matplotlib.pyplot as plt\n",
    "\n",
    "sFormatter1 = matplotlib.ticker.ScalarFormatter(useOffset=False, useMathText=True)\n",
    "sFormatter1.set_powerlimits((0, 0))"
   ]
  },
  {
   "cell_type": "code",
   "execution_count": 16,
   "metadata": {},
   "outputs": [
    {
     "data": {
      "image/png": "[encoded data removed]",
      "text/plain": [
       "<Figure size 1000x300 with 4 Axes>"
      ]
     },
     "metadata": {},
     "output_type": "display_data"
    }
   ],
   "source": [
    "figure, subplots = pyplot.subplots(1, 2, figsize=(10, 3))\n",
    "\n",
    "panel1 = seaborn.heatmap(overlap_counts.pivot(columns=\"ModelA\", index=\"ModelB\", values=\"Count\"),\n",
    "                    cmap=colors, vmin=0,cbar_kws={\"format\": sFormatter1}, ax=subplots[0])\n",
    "panel1.set(xlabel=None, ylabel=None)\n",
    "panel1.set(title=\"Shared token count\")\n",
    "panel3 = seaborn.heatmap(overlap_counts.pivot(columns=\"ModelA\", index=\"ModelB\", values=\"NonLatin\"),\n",
    "                    cmap=colors, vmin=0, ax=subplots[1])\n",
    "panel3.set(xlabel=None, ylabel=None)\n",
    "panel3.set(title=\"non-LATIN proportion of overlap\")\n",
    "\n",
    "pyplot.savefig(\"figures/overlap_counts.pdf\", bbox_inches='tight')"
   ]
  },
  {
   "cell_type": "code",
   "execution_count": 6,
   "metadata": {},
   "outputs": [
    {
     "data": {
      "text/plain": [
       "(0.6039444444444445, 0.7026388888888889)"
      ]
     },
     "execution_count": 6,
     "metadata": {},
     "output_type": "execute_result"
    }
   ],
   "source": [
    "overlap_counts[\"Overlap\"].mean(), overlap_counts[\"Latin\"].mean()"
   ]
  }
 ],
 "metadata": {
  "kernelspec": {
   "display_name": "Python 3 (ipykernel)",
   "language": "python",
   "name": "python3"
  },
  "language_info": {
   "codemirror_mode": {
    "name": "ipython",
    "version": 3
   },
   "file_extension": ".py",
   "mimetype": "text/x-python",
   "name": "python",
   "nbconvert_exporter": "python",
   "pygments_lexer": "ipython3",
   "version": "3.10.13"
  }
 },
 "nbformat": 4,
 "nbformat_minor": 4
}
